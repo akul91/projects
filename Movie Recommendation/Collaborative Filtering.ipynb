{
 "cells": [
  {
   "cell_type": "code",
   "execution_count": 1,
   "metadata": {
    "collapsed": false
   },
   "outputs": [
    {
     "name": "stdout",
     "output_type": "stream",
     "text": [
      "6040\n",
      "['2', 'M', '56', '16', '70072']\n",
      "3883\n",
      "['1', 'Toy Story', \"Animation|Children's|Comedy\", '1995']\n",
      "(3884L, 6041L)\n",
      "98742\n",
      "[594, 1]\n",
      "(3884L, 6041L)\n",
      "69\n",
      "3883\n",
      "3\n",
      "0\n",
      "0\n",
      "5\n",
      "1\n",
      "18\n",
      "(3884L, 19L)\n",
      "[ 0.  0.  0.  0.  0.  0.  0.  0.  0.  0.  0.  0.  0.  0.  0.  0.  0.  0.\n",
      "  0.]\n",
      "[ 0.  0.  0.  0.  0.  0.  0.  0.  0.  0.  0.  0.  0.  0.  0.  0.  0.  0.\n",
      "  0.]\n",
      "2.91547594742\n",
      "(3884L, 6041L)\n",
      "([3, 45, 7, 2], [2, 54, 13, 15], 0.97228425171235)\n",
      "(6041L, 19L)\n"
     ]
    }
   ],
   "source": [
    "%run 'InitializationFullRatings.ipynb'"
   ]
  },
  {
   "cell_type": "code",
   "execution_count": 2,
   "metadata": {
    "collapsed": false
   },
   "outputs": [],
   "source": [
    "clf = linear_model.LinearRegression()"
   ]
  },
  {
   "cell_type": "code",
   "execution_count": 16,
   "metadata": {
    "collapsed": false
   },
   "outputs": [
    {
     "name": "stdout",
     "output_type": "stream",
     "text": [
      "(3884L, 6041L)\n"
     ]
    },
    {
     "data": {
      "text/plain": [
       "(6041L, 19L)"
      ]
     },
     "execution_count": 16,
     "metadata": {},
     "output_type": "execute_result"
    }
   ],
   "source": [
    "print training_ratings_full.shape\n",
    "initial_model_parameter.shape"
   ]
  },
  {
   "cell_type": "code",
   "execution_count": 17,
   "metadata": {
    "collapsed": false
   },
   "outputs": [],
   "source": [
    "def feature_cleaning(features,original):\n",
    "    for i in range(len(original)):\n",
    "        for j in range(len(original[i])):\n",
    "            if(original[i][j]==0):\n",
    "                features[i][j]=0\n",
    "    return features"
   ]
  },
  {
   "cell_type": "code",
   "execution_count": 18,
   "metadata": {
    "collapsed": false
   },
   "outputs": [],
   "source": [
    "#Calculating movie features\n",
    "def collaboration_filtering(ratings,features,model, steps, alpha, lambd):\n",
    "    original=np.copy(features)\n",
    "    for i in range(steps):\n",
    "        error=np.transpose(np.dot(model,np.transpose(features))) - ratings\n",
    "        val=np.dot(error,model) + (lambd * features)\n",
    "        features=features-alpha*val\n",
    "        features=feature_cleaning(features,original)\n",
    "    return features"
   ]
  },
  {
   "cell_type": "code",
   "execution_count": 20,
   "metadata": {
    "collapsed": false
   },
   "outputs": [],
   "source": [
    "features=collaboration_filtering(training_ratings_full,movies_genre_array,initial_model_parameter, 1, .002, 1.5)"
   ]
  },
  {
   "cell_type": "code",
   "execution_count": 8,
   "metadata": {
    "collapsed": false
   },
   "outputs": [],
   "source": [
    "rat=np.dot(features,np.transpose(initial_model_parameter))"
   ]
  },
  {
   "cell_type": "code",
   "execution_count": 9,
   "metadata": {
    "collapsed": false
   },
   "outputs": [
    {
     "name": "stdout",
     "output_type": "stream",
     "text": [
      "1.55230862451\n",
      "0.622516427168\n"
     ]
    }
   ],
   "source": [
    "print calcRMSE(np.transpose(rat),validation_ratings_full,validation_matrix_full)\n",
    "from sklearn.metrics import mean_squared_error\n",
    "import math\n",
    "print math.sqrt(mean_squared_error(rat, full_ratings))"
   ]
  },
  {
   "cell_type": "code",
   "execution_count": 10,
   "metadata": {
    "collapsed": true
   },
   "outputs": [],
   "source": [
    "#Calculating hybrid function\n",
    "def hybrid(ratings,features,model, steps, alpha, lambd):\n",
    "    original=np.copy(features)\n",
    "    for i in range(steps):\n",
    "        error=np.transpose(np.dot(model,np.transpose(features))) - ratings\n",
    "        feature_grad=np.dot(error,model) + (lambd * features)\n",
    "        model_grad=np.dot(np.transpose(error),features) + (lambd * model)\n",
    "        features=features-alpha*feature_grad\n",
    "        model=model-alpha*model_grad\n",
    "        features=feature_cleaning(features,original)\n",
    "    return features,model"
   ]
  },
  {
   "cell_type": "code",
   "execution_count": 11,
   "metadata": {
    "collapsed": false
   },
   "outputs": [],
   "source": [
    "final_features,model=hybrid(training_ratings_full,features,initial_model_parameter, 10, .000002, 1.5)"
   ]
  },
  {
   "cell_type": "code",
   "execution_count": 12,
   "metadata": {
    "collapsed": true
   },
   "outputs": [],
   "source": [
    "rat=np.dot(final_features,np.transpose(model))"
   ]
  },
  {
   "cell_type": "code",
   "execution_count": 13,
   "metadata": {
    "collapsed": false
   },
   "outputs": [
    {
     "name": "stdout",
     "output_type": "stream",
     "text": [
      "1.54895023056\n",
      "0.384530678807\n"
     ]
    }
   ],
   "source": [
    "print calcRMSE(np.transpose(rat),validation_ratings_full,validation_matrix_full)\n",
    "print math.sqrt(mean_squared_error(rat, full_ratings))"
   ]
  },
  {
   "cell_type": "code",
   "execution_count": 14,
   "metadata": {
    "collapsed": false
   },
   "outputs": [
    {
     "data": {
      "text/plain": [
       "array([-0.00030009,  0.07202612,  0.04310627,  0.02272406,  0.03769986,\n",
       "        0.17070021,  0.03680096,  0.02372642,  0.23670963,  0.01088779,\n",
       "        0.03195384,  0.04657753,  0.02894887,  0.02696078,  0.07372316,\n",
       "        0.04248296,  0.07391841,  0.03161089,  0.03405603])"
      ]
     },
     "execution_count": 14,
     "metadata": {},
     "output_type": "execute_result"
    }
   ],
   "source": [
    "model[5998]"
   ]
  },
  {
   "cell_type": "code",
   "execution_count": 188,
   "metadata": {
    "collapsed": false
   },
   "outputs": [
    {
     "data": {
      "text/plain": [
       "array([ 1.,  0.,  0.,  0.,  0.,  0.,  0.,  0.,  1.,  0.,  0.,  0.,  0.,\n",
       "        0.,  0.,  0.,  1.,  0.,  0.])"
      ]
     },
     "execution_count": 188,
     "metadata": {},
     "output_type": "execute_result"
    }
   ],
   "source": [
    "movies_genre_array[100]"
   ]
  },
  {
   "cell_type": "code",
   "execution_count": 52,
   "metadata": {
    "collapsed": false
   },
   "outputs": [
    {
     "name": "stdout",
     "output_type": "stream",
     "text": [
      "(70L, 19L)\n"
     ]
    }
   ],
   "source": [
    "movies_genre_testing_array = np.array([[0.0 for i in range(len(movie_types)+1)] for j in range(len(testing_movies)+1)])\n",
    "print movies_genre_testing_array.shape"
   ]
  },
  {
   "cell_type": "code",
   "execution_count": 53,
   "metadata": {
    "collapsed": false
   },
   "outputs": [],
   "source": [
    "#Calculating genre matrix for new movies\n",
    "count=1\n",
    "for m in movies:\n",
    "    if int(m[0])>len(movies):      \n",
    "        genre_list=m[2].split(\"|\")\n",
    "        for t in m[2].split(\"|\"):\n",
    "            index=movie_types.get(t)\n",
    "            movies_genre_testing_array[count,index]=10\n",
    "        count+=1"
   ]
  },
  {
   "cell_type": "code",
   "execution_count": 68,
   "metadata": {
    "collapsed": false
   },
   "outputs": [],
   "source": [
    "f=np.dot(movies_genre_testing_array,np.transpose(model))"
   ]
  },
  {
   "cell_type": "code",
   "execution_count": 67,
   "metadata": {
    "collapsed": false
   },
   "outputs": [
    {
     "name": "stdout",
     "output_type": "stream",
     "text": [
      "(70L, 6041L)\n"
     ]
    }
   ],
   "source": [
    "testing_ratings = np.array([[0 for i in range(len(users)+1)] for j in range(len(testing_movies)+1)])\n",
    "print testing_ratings.shape"
   ]
  },
  {
   "cell_type": "code",
   "execution_count": 59,
   "metadata": {
    "collapsed": false
   },
   "outputs": [],
   "source": [
    "#Fetching testing ratings\n",
    "for line in open('ratings.dat', 'r'):\n",
    "    temp= line.rstrip().split(\"::\")\n",
    "    if int(temp[1])>len(movies):\n",
    "        a=int(temp[1])-3883\n",
    "        testing_ratings[a,temp[0]]=temp[2]"
   ]
  },
  {
   "cell_type": "code",
   "execution_count": 63,
   "metadata": {
    "collapsed": false
   },
   "outputs": [
    {
     "data": {
      "text/plain": [
       "(70L, 6041L)"
      ]
     },
     "execution_count": 63,
     "metadata": {},
     "output_type": "execute_result"
    }
   ],
   "source": [
    "testing_ratings.shape"
   ]
  },
  {
   "cell_type": "code",
   "execution_count": 69,
   "metadata": {
    "collapsed": true
   },
   "outputs": [],
   "source": [
    "from sklearn.metrics import mean_squared_error\n",
    "from math import sqrt\n",
    "\n",
    "rms = sqrt(mean_squared_error(testing_ratings, f))"
   ]
  },
  {
   "cell_type": "code",
   "execution_count": 70,
   "metadata": {
    "collapsed": false
   },
   "outputs": [
    {
     "data": {
      "text/plain": [
       "2.215991086306548"
      ]
     },
     "execution_count": 70,
     "metadata": {},
     "output_type": "execute_result"
    }
   ],
   "source": [
    "rms"
   ]
  },
  {
   "cell_type": "code",
   "execution_count": null,
   "metadata": {
    "collapsed": true
   },
   "outputs": [],
   "source": []
  }
 ],
 "metadata": {
  "kernelspec": {
   "display_name": "Python 2",
   "language": "python",
   "name": "python2"
  },
  "language_info": {
   "codemirror_mode": {
    "name": "ipython",
    "version": 2
   },
   "file_extension": ".py",
   "mimetype": "text/x-python",
   "name": "python",
   "nbconvert_exporter": "python",
   "pygments_lexer": "ipython2",
   "version": "2.7.10"
  }
 },
 "nbformat": 4,
 "nbformat_minor": 0
}

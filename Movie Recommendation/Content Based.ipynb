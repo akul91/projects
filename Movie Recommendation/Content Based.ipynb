{
 "cells": [
  {
   "cell_type": "code",
   "execution_count": 1,
   "metadata": {
    "collapsed": false
   },
   "outputs": [
    {
     "name": "stdout",
     "output_type": "stream",
     "text": [
      "6040\n",
      "['2', 'M', '56', '16', '70072']\n",
      "3883\n",
      "['1', 'Toy Story', \"Animation|Children's|Comedy\", '1995']\n",
      "(3884L, 6041L)\n",
      "98742\n",
      "[594, 1]\n",
      "(3884L, 6041L)\n",
      "69\n",
      "3883\n",
      "3\n",
      "0\n",
      "0\n",
      "5\n",
      "1\n",
      "18\n",
      "(3884L, 19L)\n",
      "[ 0.  0.  0.  0.  0.  0.  0.  0.  0.  0.  0.  0.  0.  0.  0.  0.  0.  0.\n",
      "  0.]\n",
      "2.91547594742\n",
      "(3884L, 6041L)\n"
     ]
    }
   ],
   "source": [
    "%run 'Initialization.ipynb'\n",
    "%run 'Functions.ipynb'"
   ]
  },
  {
   "cell_type": "code",
   "execution_count": 14,
   "metadata": {
    "collapsed": false
   },
   "outputs": [],
   "source": [
    "for m in movies:\n",
    "    if int(m[0])<=len(movies):\n",
    "        movies_genre_array[m[0],0]=1\n",
    "        genre_list=m[2].split(\"|\")\n",
    "        val=float(1)/len(genre_list)\n",
    "        for t in m[2].split(\"|\"):\n",
    "            index=movie_types.get(t)\n",
    "            movies_genre_array[m[0],index]=val"
   ]
  },
  {
   "cell_type": "code",
   "execution_count": 6,
   "metadata": {
    "collapsed": true
   },
   "outputs": [],
   "source": [
    "clf = linear_model.LinearRegression()"
   ]
  },
  {
   "cell_type": "code",
   "execution_count": 4,
   "metadata": {
    "collapsed": false
   },
   "outputs": [
    {
     "data": {
      "text/plain": [
       "LinearRegression(copy_X=True, fit_intercept=True, n_jobs=1, normalize=False)"
      ]
     },
     "execution_count": 4,
     "metadata": {},
     "output_type": "execute_result"
    }
   ],
   "source": [
    "clf.fit (training_ratings,movies_genre_array)"
   ]
  },
  {
   "cell_type": "code",
   "execution_count": 9,
   "metadata": {
    "collapsed": false
   },
   "outputs": [
    {
     "name": "stdout",
     "output_type": "stream",
     "text": [
      "('Coefficients: \\n', array([[ -1.44336887e-08,   1.59774024e-01,   9.86948878e-02, ...,\n",
      "         -1.02232031e-01,  -4.31002473e-02,  -8.15421940e-02],\n",
      "       [ -5.42136353e-09,   1.92350666e-02,   2.14782910e-02, ...,\n",
      "          1.54170088e-02,  -5.52333327e-02,  -5.32845750e-02],\n",
      "       [ -1.12375584e-08,   4.79183261e-02,   8.92366289e-03, ...,\n",
      "         -5.51639823e-03,  -1.39511258e-02,   3.03372121e-03],\n",
      "       ..., \n",
      "       [ -1.08989878e-09,   1.20131492e-01,   8.33798629e-02, ...,\n",
      "          3.59014514e-02,  -1.19220008e-02,   5.06781196e-02],\n",
      "       [ -1.66415439e-10,   1.12535546e-02,  -2.82848871e-02, ...,\n",
      "         -8.35098958e-03,  -1.44756944e-02,   8.59195633e-03],\n",
      "       [  1.73083168e-09,   1.45358625e-02,   1.23878184e-02, ...,\n",
      "         -1.55340012e-02,  -1.89864983e-02,   8.50809690e-03]]))\n"
     ]
    }
   ],
   "source": [
    "print('Coefficients: \\n', clf.coef_)"
   ]
  },
  {
   "cell_type": "code",
   "execution_count": 8,
   "metadata": {
    "collapsed": false
   },
   "outputs": [
    {
     "data": {
      "text/plain": [
       "(19L,)"
      ]
     },
     "execution_count": 8,
     "metadata": {},
     "output_type": "execute_result"
    }
   ],
   "source": [
    "model_params=np.transpose(clf.coef_)\n",
    "model_params[0].shape"
   ]
  },
  {
   "cell_type": "code",
   "execution_count": 21,
   "metadata": {
    "collapsed": false
   },
   "outputs": [
    {
     "name": "stdout",
     "output_type": "stream",
     "text": [
      "[-0.0500865  -0.          0.         -0.          0.          0.01253637\n",
      " -0.          0.         -0.12479928  0.         -0.         -0.          0.\n",
      " -0.          0.07524623  0.         -0.          0.          0.        ]\n"
     ]
    }
   ],
   "source": [
    "print movies_genre_array[3108]*model_params[5545]"
   ]
  },
  {
   "cell_type": "code",
   "execution_count": 23,
   "metadata": {
    "collapsed": false
   },
   "outputs": [
    {
     "data": {
      "text/plain": [
       "array([ 1.        ,  0.        ,  0.        ,  0.33333333,  0.33333333,\n",
       "        0.        ,  0.        ,  0.        ,  0.        ,  0.        ,\n",
       "        0.        ,  0.        ,  0.33333333,  0.        ,  0.        ,\n",
       "        0.        ,  0.        ,  0.        ,  0.        ])"
      ]
     },
     "execution_count": 23,
     "metadata": {},
     "output_type": "execute_result"
    }
   ],
   "source": [
    "movies_genre_array[595]"
   ]
  },
  {
   "cell_type": "code",
   "execution_count": 20,
   "metadata": {
    "collapsed": false
   },
   "outputs": [
    {
     "name": "stdout",
     "output_type": "stream",
     "text": [
      "3.75091299195\n"
     ]
    }
   ],
   "source": [
    "result=np.dot(movies_genre_array,clf.coef_)\n",
    "print calcRMSE(result,validation_ratings,validation_matrix)"
   ]
  },
  {
   "cell_type": "code",
   "execution_count": 24,
   "metadata": {
    "collapsed": false
   },
   "outputs": [],
   "source": [
    "model = np.array([[np.random.rand(1)[0] for i in range(len(users)+1)] for j in range(len(movies_genre_array[0])+1)])"
   ]
  },
  {
   "cell_type": "code",
   "execution_count": 25,
   "metadata": {
    "collapsed": false
   },
   "outputs": [
    {
     "name": "stdout",
     "output_type": "stream",
     "text": [
      "(6041L, 20L)\n",
      "(3884L, 6041L)\n",
      "(3884L, 19L)\n"
     ]
    }
   ],
   "source": [
    "print np.transpose(model).shape\n",
    "print training_ratings.shape\n",
    "print movies_genre_array.shape"
   ]
  },
  {
   "cell_type": "code",
   "execution_count": 26,
   "metadata": {
    "collapsed": false
   },
   "outputs": [
    {
     "data": {
      "text/plain": [
       "LinearRegression(copy_X=True, fit_intercept=True, n_jobs=1, normalize=False)"
      ]
     },
     "execution_count": 26,
     "metadata": {},
     "output_type": "execute_result"
    }
   ],
   "source": [
    "clf.fit (np.transpose(training_ratings),np.transpose(model))"
   ]
  },
  {
   "cell_type": "code",
   "execution_count": 27,
   "metadata": {
    "collapsed": false
   },
   "outputs": [
    {
     "data": {
      "text/plain": [
       "(20L, 3884L)"
      ]
     },
     "execution_count": 27,
     "metadata": {},
     "output_type": "execute_result"
    }
   ],
   "source": [
    "clf.coef_.shape"
   ]
  },
  {
   "cell_type": "code",
   "execution_count": 37,
   "metadata": {
    "collapsed": false
   },
   "outputs": [
    {
     "data": {
      "text/plain": [
       "array([-0.00379928, -0.00496739,  0.00217118,  0.00123147, -0.01057725,\n",
       "        0.01424715,  0.00899833,  0.00337714,  0.00016417,  0.00825199,\n",
       "        0.0043763 ,  0.00071508, -0.00278129, -0.00537186, -0.00198966,\n",
       "        0.00396078, -0.00197613,  0.00088284,  0.00300683, -0.00028197])"
      ]
     },
     "execution_count": 37,
     "metadata": {},
     "output_type": "execute_result"
    }
   ],
   "source": [
    "np.transpose(clf.coef_)[1]"
   ]
  },
  {
   "cell_type": "code",
   "execution_count": null,
   "metadata": {
    "collapsed": false
   },
   "outputs": [],
   "source": []
  },
  {
   "cell_type": "code",
   "execution_count": null,
   "metadata": {
    "collapsed": false
   },
   "outputs": [],
   "source": []
  },
  {
   "cell_type": "code",
   "execution_count": null,
   "metadata": {
    "collapsed": true
   },
   "outputs": [],
   "source": []
  }
 ],
 "metadata": {
  "kernelspec": {
   "display_name": "Python 2",
   "language": "python",
   "name": "python2"
  },
  "language_info": {
   "codemirror_mode": {
    "name": "ipython",
    "version": 2
   },
   "file_extension": ".py",
   "mimetype": "text/x-python",
   "name": "python",
   "nbconvert_exporter": "python",
   "pygments_lexer": "ipython2",
   "version": "2.7.10"
  }
 },
 "nbformat": 4,
 "nbformat_minor": 0
}

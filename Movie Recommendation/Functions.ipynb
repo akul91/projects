{
 "cells": [
  {
   "cell_type": "code",
   "execution_count": 13,
   "metadata": {
    "collapsed": true
   },
   "outputs": [],
   "source": [
    "import numpy as np\n",
    "import random"
   ]
  },
  {
   "cell_type": "code",
   "execution_count": 17,
   "metadata": {
    "collapsed": true
   },
   "outputs": [],
   "source": [
    "#Finding squared error\n",
    "def squaredError(pred, actual):\n",
    "    return (actual - pred)**2."
   ]
  },
  {
   "cell_type": "code",
   "execution_count": 34,
   "metadata": {
    "collapsed": false
   },
   "outputs": [],
   "source": [
    "#Calculating RMSE\n",
    "def calcRMSE(testing,validation,elements):\n",
    "    diff=[]\n",
    "    for i in elements:\n",
    "        diff.append(squaredError(testing[i[0]][i[1]], validation[i[0]][i[1]]))\n",
    "    return np.sqrt(np.mean(diff))"
   ]
  },
  {
   "cell_type": "code",
   "execution_count": 36,
   "metadata": {
    "collapsed": false
   },
   "outputs": [
    {
     "name": "stdout",
     "output_type": "stream",
     "text": [
      "[16.0, 1.0]\n",
      "2.91547594742\n"
     ]
    }
   ],
   "source": [
    "print calcRMSE([[1,2],[2,5]],[[5,3],[2,4]],[[0,0],[1,1]])"
   ]
  },
  {
   "cell_type": "code",
   "execution_count": 2,
   "metadata": {
    "collapsed": true
   },
   "outputs": [],
   "source": [
    "#Generating Ratings from text file\n",
    "def getFinalRatings():\n",
    "    lines = [line.rstrip('\\n') for line in open('result.txt')]\n",
    "    final_ratings=[]\n",
    "    for i in lines:\n",
    "        temp=i.split(',')\n",
    "        temp = map(float, temp)\n",
    "        final_ratings.append(temp)\n",
    "    return  np.asarray(final_ratings)"
   ]
  },
  {
   "cell_type": "code",
   "execution_count": 3,
   "metadata": {
    "collapsed": false
   },
   "outputs": [
    {
     "name": "stdout",
     "output_type": "stream",
     "text": [
      "(3884L, 6041L)\n"
     ]
    }
   ],
   "source": [
    "print getFinalRatings().shape"
   ]
  },
  {
   "cell_type": "code",
   "execution_count": 1,
   "metadata": {
    "collapsed": true
   },
   "outputs": [],
   "source": [
    "#Partitioning data\n",
    "def partition(l, pred):\n",
    "    yes, no = [], []\n",
    "    for e in l:\n",
    "        if pred(e):\n",
    "            yes.append(e)\n",
    "        else:\n",
    "            no.append(e)\n",
    "    return yes, no"
   ]
  },
  {
   "cell_type": "code",
   "execution_count": 14,
   "metadata": {
    "collapsed": true
   },
   "outputs": [],
   "source": [
    "#Calculating cosine similarity\n",
    "def cosine_similarity(v1,v2):\n",
    "    \"compute cosine similarity of v1 to v2: (v1 dot v2)/{||v1||*||v2||)\"\n",
    "    sumxx, sumxy, sumyy = 0, 0, 0\n",
    "    for i in range(len(v1)):\n",
    "        x = v1[i]; y = v2[i]\n",
    "        sumxx += x*x\n",
    "        sumyy += y*y\n",
    "        sumxy += x*y\n",
    "    return sumxy/np.sqrt(sumxx*sumyy)"
   ]
  },
  {
   "cell_type": "code",
   "execution_count": 15,
   "metadata": {
    "collapsed": false
   },
   "outputs": [
    {
     "name": "stdout",
     "output_type": "stream",
     "text": [
      "([3, 45, 7, 2], [2, 54, 13, 15], 0.97228425171235)\n"
     ]
    }
   ],
   "source": [
    "v1,v2 = [3, 45, 7, 2], [2, 54, 13, 15]\n",
    "print(v1, v2, cosine_similarity(v1,v2))"
   ]
  },
  {
   "cell_type": "code",
   "execution_count": null,
   "metadata": {
    "collapsed": false
   },
   "outputs": [],
   "source": []
  },
  {
   "cell_type": "code",
   "execution_count": null,
   "metadata": {
    "collapsed": true
   },
   "outputs": [],
   "source": []
  }
 ],
 "metadata": {
  "kernelspec": {
   "display_name": "Python 2",
   "language": "python",
   "name": "python2"
  },
  "language_info": {
   "codemirror_mode": {
    "name": "ipython",
    "version": 2
   },
   "file_extension": ".py",
   "mimetype": "text/x-python",
   "name": "python",
   "nbconvert_exporter": "python",
   "pygments_lexer": "ipython2",
   "version": "2.7.10"
  }
 },
 "nbformat": 4,
 "nbformat_minor": 0
}

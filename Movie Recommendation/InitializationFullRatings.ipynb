{
 "cells": [
  {
   "cell_type": "code",
   "execution_count": 1,
   "metadata": {
    "collapsed": false
   },
   "outputs": [
    {
     "name": "stdout",
     "output_type": "stream",
     "text": [
      "6040\n",
      "['2', 'M', '56', '16', '70072']\n",
      "3883\n",
      "['1', 'Toy Story', \"Animation|Children's|Comedy\", '1995']\n",
      "(3884L, 6041L)\n",
      "98742\n",
      "[594, 1]\n",
      "(3884L, 6041L)\n",
      "69\n",
      "3883\n",
      "3\n",
      "0\n",
      "0\n",
      "5\n",
      "1\n",
      "18\n",
      "(3884L, 19L)\n",
      "[ 0.  0.  0.  0.  0.  0.  0.  0.  0.  0.  0.  0.  0.  0.  0.  0.  0.  0.\n",
      "  0.]\n",
      "2.91547594742\n",
      "(3884L, 6041L)\n"
     ]
    }
   ],
   "source": [
    "%run 'Initialization.ipynb'\n",
    "%run 'Functions.ipynb'"
   ]
  },
  {
   "cell_type": "code",
   "execution_count": 37,
   "metadata": {
    "collapsed": true
   },
   "outputs": [],
   "source": [
    "full_ratings=getFinalRatings()"
   ]
  },
  {
   "cell_type": "code",
   "execution_count": 38,
   "metadata": {
    "collapsed": false
   },
   "outputs": [
    {
     "data": {
      "text/plain": [
       "(3884L, 6041L)"
      ]
     },
     "execution_count": 38,
     "metadata": {},
     "output_type": "execute_result"
    }
   ],
   "source": [
    "full_ratings.shape"
   ]
  },
  {
   "cell_type": "code",
   "execution_count": 39,
   "metadata": {
    "collapsed": false
   },
   "outputs": [],
   "source": [
    "validation_ratings_full= np.array([[0.0 for i in range(len(full_ratings[0]))] for j in range(len(full_ratings))])\n",
    "training_ratings_full=np.copy(full_ratings)"
   ]
  },
  {
   "cell_type": "code",
   "execution_count": 40,
   "metadata": {
    "collapsed": false
   },
   "outputs": [
    {
     "data": {
      "text/plain": [
       "(3884L, 6041L)"
      ]
     },
     "execution_count": 40,
     "metadata": {},
     "output_type": "execute_result"
    }
   ],
   "source": [
    "training_ratings_full.shape"
   ]
  },
  {
   "cell_type": "code",
   "execution_count": 41,
   "metadata": {
    "collapsed": false
   },
   "outputs": [],
   "source": [
    "#Generating training and testing matrix\n",
    "validation_matrix_full=[]\n",
    "for i in range(len(training_ratings_full)):\n",
    "    for j in range(len(training_ratings_full)*len(training_ratings_full[0])/(len(users)*10)):\n",
    "        col=int(random.random()*10000)%len(movies)\n",
    "        validation_ratings_full[i][col]=training_ratings_full[i][col]\n",
    "        training_ratings_full[i][col]=0\n",
    "        if i!=0:\n",
    "            validation_matrix_full.append([i,col])"
   ]
  },
  {
   "cell_type": "code",
   "execution_count": 125,
   "metadata": {
    "collapsed": false
   },
   "outputs": [],
   "source": [
    "#np.nonzero(validation_ratings_full[1])"
   ]
  },
  {
   "cell_type": "code",
   "execution_count": 43,
   "metadata": {
    "collapsed": false
   },
   "outputs": [
    {
     "data": {
      "text/plain": [
       "4.2000000000000002"
      ]
     },
     "execution_count": 43,
     "metadata": {},
     "output_type": "execute_result"
    }
   ],
   "source": [
    "training_ratings_full[1][3754]"
   ]
  },
  {
   "cell_type": "code",
   "execution_count": 44,
   "metadata": {
    "collapsed": false
   },
   "outputs": [
    {
     "data": {
      "text/plain": [
       "[1, 2065]"
      ]
     },
     "execution_count": 44,
     "metadata": {},
     "output_type": "execute_result"
    }
   ],
   "source": [
    "validation_matrix_full[1]"
   ]
  },
  {
   "cell_type": "code",
   "execution_count": 45,
   "metadata": {
    "collapsed": false
   },
   "outputs": [
    {
     "data": {
      "text/plain": [
       "4.2000000000000002"
      ]
     },
     "execution_count": 45,
     "metadata": {},
     "output_type": "execute_result"
    }
   ],
   "source": [
    "full_ratings[1][3754]"
   ]
  },
  {
   "cell_type": "code",
   "execution_count": 46,
   "metadata": {
    "collapsed": false
   },
   "outputs": [
    {
     "data": {
      "text/plain": [
       "0.0"
      ]
     },
     "execution_count": 46,
     "metadata": {},
     "output_type": "execute_result"
    }
   ],
   "source": [
    "validation_ratings_full[1][3754]"
   ]
  },
  {
   "cell_type": "code",
   "execution_count": 120,
   "metadata": {
    "collapsed": false
   },
   "outputs": [
    {
     "name": "stdout",
     "output_type": "stream",
     "text": [
      "(6041L, 19L)\n"
     ]
    }
   ],
   "source": [
    "initial_model_parameter=np.array([[0.0 for i in range(len(movie_types)+1)] for j in range(len(users)+1)])\n",
    "print initial_model_parameter.shape"
   ]
  },
  {
   "cell_type": "code",
   "execution_count": 48,
   "metadata": {
    "collapsed": false
   },
   "outputs": [
    {
     "data": {
      "text/plain": [
       "array([ 0.,  0.,  0.,  0.,  0.,  0.,  0.,  0.,  0.,  0.,  0.,  0.,  0.,\n",
       "        0.,  0.,  0.,  0.,  0.,  0.])"
      ]
     },
     "execution_count": 48,
     "metadata": {},
     "output_type": "execute_result"
    }
   ],
   "source": [
    "initial_model_parameter[1]"
   ]
  },
  {
   "cell_type": "code",
   "execution_count": 50,
   "metadata": {
    "collapsed": false
   },
   "outputs": [
    {
     "data": {
      "text/plain": [
       "array([ 1.06,  4.34,  3.51, ...,  2.45,  3.4 ,  2.77])"
      ]
     },
     "execution_count": 50,
     "metadata": {},
     "output_type": "execute_result"
    }
   ],
   "source": [
    "training_ratings_full[:,1]"
   ]
  },
  {
   "cell_type": "code",
   "execution_count": 64,
   "metadata": {
    "collapsed": false
   },
   "outputs": [
    {
     "data": {
      "text/plain": [
       "4.1600000000000001"
      ]
     },
     "execution_count": 64,
     "metadata": {},
     "output_type": "execute_result"
    }
   ],
   "source": [
    "training_ratings_full[1035][1]"
   ]
  },
  {
   "cell_type": "code",
   "execution_count": 71,
   "metadata": {
    "collapsed": false
   },
   "outputs": [
    {
     "data": {
      "text/plain": [
       "(3884L, 19L)"
      ]
     },
     "execution_count": 71,
     "metadata": {},
     "output_type": "execute_result"
    }
   ],
   "source": [
    "for m in movies:\n",
    "    if int(m[0])<=len(movies):\n",
    "        movies_genre_array[m[0],0]=1\n",
    "        genre_list=m[2].split(\"|\")\n",
    "        for t in m[2].split(\"|\"):\n",
    "            index=movie_types.get(t)\n",
    "            movies_genre_array[m[0],index]=1\n",
    "movies_genre_array.shape"
   ]
  },
  {
   "cell_type": "code",
   "execution_count": 121,
   "metadata": {
    "collapsed": false
   },
   "outputs": [
    {
     "data": {
      "text/plain": [
       "array([ 0.        ,  0.0774953 ,  0.04421038,  0.01860492,  0.03913183,\n",
       "        0.18130657,  0.03319489,  0.01935561,  0.24936116,  0.01060933,\n",
       "        0.00826242,  0.04466369,  0.01890658,  0.0184297 ,  0.07868536,\n",
       "        0.04083415,  0.0794607 ,  0.02548919,  0.01199819])"
      ]
     },
     "execution_count": 121,
     "metadata": {},
     "output_type": "execute_result"
    }
   ],
   "source": [
    "#Calculating model parameters\n",
    "for j in range(len(training_ratings_full[1])):\n",
    "    if j!=0:\n",
    "        for i in range(len(training_ratings_full[:,j])):\n",
    "            if i!=0:\n",
    "                initial_model_parameter[j]=initial_model_parameter[j]+movies_genre_array[i]*training_ratings_full[i][j]\n",
    "        initial_model_parameter[j][0]=0\n",
    "        val=sum(initial_model_parameter[j])\n",
    "        initial_model_parameter[j]=initial_model_parameter[j]/val\n",
    "initial_model_parameter[1]"
   ]
  },
  {
   "cell_type": "code",
   "execution_count": 122,
   "metadata": {
    "collapsed": false
   },
   "outputs": [
    {
     "data": {
      "text/plain": [
       "0.24936116265449826"
      ]
     },
     "execution_count": 122,
     "metadata": {},
     "output_type": "execute_result"
    }
   ],
   "source": [
    "np.amax(initial_model_parameter[1])"
   ]
  },
  {
   "cell_type": "code",
   "execution_count": 123,
   "metadata": {
    "collapsed": false
   },
   "outputs": [
    {
     "data": {
      "text/plain": [
       "0.24936116265449826"
      ]
     },
     "execution_count": 123,
     "metadata": {},
     "output_type": "execute_result"
    }
   ],
   "source": [
    "initial_model_parameter[1][8]"
   ]
  },
  {
   "cell_type": "code",
   "execution_count": null,
   "metadata": {
    "collapsed": false
   },
   "outputs": [],
   "source": []
  },
  {
   "cell_type": "code",
   "execution_count": null,
   "metadata": {
    "collapsed": true
   },
   "outputs": [],
   "source": []
  }
 ],
 "metadata": {
  "kernelspec": {
   "display_name": "Python 2",
   "language": "python",
   "name": "python2"
  },
  "language_info": {
   "codemirror_mode": {
    "name": "ipython",
    "version": 2
   },
   "file_extension": ".py",
   "mimetype": "text/x-python",
   "name": "python",
   "nbconvert_exporter": "python",
   "pygments_lexer": "ipython2",
   "version": "2.7.10"
  }
 },
 "nbformat": 4,
 "nbformat_minor": 0
}

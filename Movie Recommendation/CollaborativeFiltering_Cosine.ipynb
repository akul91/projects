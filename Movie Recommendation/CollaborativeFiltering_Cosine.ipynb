{
 "cells": [
  {
   "cell_type": "code",
   "execution_count": 1,
   "metadata": {
    "collapsed": false
   },
   "outputs": [
    {
     "name": "stdout",
     "output_type": "stream",
     "text": [
      "6040\n",
      "['2', 'M', '56', '16', '70072']\n",
      "3883\n",
      "['1', 'Toy Story', \"Animation|Children's|Comedy\", '1995']\n",
      "(3884L, 6041L)\n",
      "98742\n",
      "[594, 1]\n",
      "(3884L, 6041L)\n",
      "69\n",
      "3883\n",
      "3\n",
      "0\n",
      "0\n",
      "5\n",
      "1\n",
      "18\n",
      "(3884L, 19L)\n",
      "[ 0.  0.  0.  0.  0.  0.  0.  0.  0.  0.  0.  0.  0.  0.  0.  0.  0.  0.\n",
      "  0.]\n",
      "[ 0.  0.  0.  0.  0.  0.  0.  0.  0.  0.  0.  0.  0.  0.  0.  0.  0.  0.\n",
      "  0.]\n",
      "2.91547594742\n",
      "(3884L, 6041L)\n",
      "([3, 45, 7, 2], [2, 54, 13, 15], 0.97228425171235)\n"
     ]
    }
   ],
   "source": [
    "%run 'Initialization.ipynb'\n",
    "%run 'Functions.ipynb'"
   ]
  },
  {
   "cell_type": "code",
   "execution_count": 11,
   "metadata": {
    "collapsed": false
   },
   "outputs": [
    {
     "name": "stdout",
     "output_type": "stream",
     "text": [
      "(6041L, 6041L)\n"
     ]
    }
   ],
   "source": [
    "similiarity = np.array([[0.0 for i in range(len(users)+1)] for j in range(len(users)+1)])\n",
    "print similiarity.shape"
   ]
  },
  {
   "cell_type": "code",
   "execution_count": null,
   "metadata": {
    "collapsed": false,
    "scrolled": true
   },
   "outputs": [],
   "source": [
    "#Calculating similarity for all users with all other users\n",
    "counti=0\n",
    "for i in np.transpose(training_ratings):\n",
    "    countj=0\n",
    "    if(np.all(i==0)==False):\n",
    "        for j in np.transpose(training_ratings):\n",
    "            if((np.all(j==0)==False) and countj>=counti):\n",
    "                similiarity[counti,countj]=cosine_similarity(i,j)\n",
    "            countj+=1\n",
    "    print counti\n",
    "    counti+=1"
   ]
  },
  {
   "cell_type": "code",
   "execution_count": 13,
   "metadata": {
    "collapsed": true
   },
   "outputs": [],
   "source": [
    "np.savetxt('similiarity.txt', similiarity,fmt='%1.3f', delimiter=',')"
   ]
  },
  {
   "cell_type": "code",
   "execution_count": 2,
   "metadata": {
    "collapsed": true
   },
   "outputs": [],
   "source": [
    "lines = [line.rstrip('\\n') for line in open('similiarity.txt')]\n",
    "final_ratings=[]\n",
    "for i in lines:\n",
    "    temp=i.split(',')\n",
    "    temp = map(float, temp)\n",
    "    final_ratings.append(temp)\n",
    "sim=np.asarray(final_ratings)"
   ]
  },
  {
   "cell_type": "code",
   "execution_count": 3,
   "metadata": {
    "collapsed": false
   },
   "outputs": [
    {
     "data": {
      "text/plain": [
       "0.14899999999999999"
      ]
     },
     "execution_count": 3,
     "metadata": {},
     "output_type": "execute_result"
    }
   ],
   "source": [
    "sim[17][81]"
   ]
  },
  {
   "cell_type": "code",
   "execution_count": 4,
   "metadata": {
    "collapsed": false
   },
   "outputs": [
    {
     "data": {
      "text/plain": [
       "0.12892345209204648"
      ]
     },
     "execution_count": 4,
     "metadata": {},
     "output_type": "execute_result"
    }
   ],
   "source": [
    "cosine_similarity(np.transpose(training_ratings)[1],np.transpose(training_ratings)[6])"
   ]
  },
  {
   "cell_type": "code",
   "execution_count": 5,
   "metadata": {
    "collapsed": false
   },
   "outputs": [],
   "source": [
    "for i in reversed(range(len(sim))):\n",
    "    for j in range(len(sim)):\n",
    "        if j>i:\n",
    "            sim[j][i]=sim[i][j]\n",
    "        if i==j:\n",
    "            sim[j][i]=0"
   ]
  },
  {
   "cell_type": "code",
   "execution_count": 6,
   "metadata": {
    "collapsed": false
   },
   "outputs": [
    {
     "data": {
      "text/plain": [
       "0.14899999999999999"
      ]
     },
     "execution_count": 6,
     "metadata": {},
     "output_type": "execute_result"
    }
   ],
   "source": [
    "sim[81][17]"
   ]
  },
  {
   "cell_type": "code",
   "execution_count": 7,
   "metadata": {
    "collapsed": false
   },
   "outputs": [
    {
     "data": {
      "text/plain": [
       "array([[ 0.   ,  0.   ,  0.   , ...,  0.   ,  0.   ,  0.   ],\n",
       "       [ 0.   ,  0.   ,  0.093, ...,  0.   ,  0.165,  0.115],\n",
       "       [ 0.   ,  0.093,  0.   , ...,  0.069,  0.063,  0.196],\n",
       "       ..., \n",
       "       [ 0.   ,  0.   ,  0.069, ...,  0.   ,  0.145,  0.074],\n",
       "       [ 0.   ,  0.165,  0.063, ...,  0.145,  0.   ,  0.194],\n",
       "       [ 0.   ,  0.115,  0.196, ...,  0.074,  0.194,  0.   ]])"
      ]
     },
     "execution_count": 7,
     "metadata": {},
     "output_type": "execute_result"
    }
   ],
   "source": [
    "sim"
   ]
  },
  {
   "cell_type": "code",
   "execution_count": 8,
   "metadata": {
    "collapsed": false
   },
   "outputs": [
    {
     "name": "stdout",
     "output_type": "stream",
     "text": [
      "(6041L, 20L)\n"
     ]
    }
   ],
   "source": [
    "sim_max = np.array([[0 for i in range(20)] for j in range(len(users)+1)])\n",
    "print sim_max.shape"
   ]
  },
  {
   "cell_type": "code",
   "execution_count": 9,
   "metadata": {
    "collapsed": false
   },
   "outputs": [
    {
     "data": {
      "text/plain": [
       "array([2566,  681, 1850, 1858, 2796, 2083, 1415, 1283, 1744,   96, 5975,\n",
       "       1506, 5920, 5705, 1359,  626, 5762, 5343, 5190, 1481], dtype=int64)"
      ]
     },
     "execution_count": 9,
     "metadata": {},
     "output_type": "execute_result"
    }
   ],
   "source": [
    "np.argsort(sim[1])[-20:]"
   ]
  },
  {
   "cell_type": "code",
   "execution_count": 10,
   "metadata": {
    "collapsed": false
   },
   "outputs": [],
   "source": [
    "for i in range(len(sim)):\n",
    "    sim_max[i]=np.fliplr([np.argsort(sim[i])[-20:]])[0]"
   ]
  },
  {
   "cell_type": "code",
   "execution_count": 11,
   "metadata": {
    "collapsed": false
   },
   "outputs": [
    {
     "data": {
      "text/plain": [
       "array([1481, 5190, 5343, 5762,  626, 1359, 5705, 5920, 1506, 5975,   96,\n",
       "       1744, 1283, 1415, 2083, 2796, 1858, 1850,  681, 2566])"
      ]
     },
     "execution_count": 11,
     "metadata": {},
     "output_type": "execute_result"
    }
   ],
   "source": [
    "sim_max[1]"
   ]
  },
  {
   "cell_type": "code",
   "execution_count": 12,
   "metadata": {
    "collapsed": false
   },
   "outputs": [
    {
     "data": {
      "text/plain": [
       "0.33500000000000002"
      ]
     },
     "execution_count": 12,
     "metadata": {},
     "output_type": "execute_result"
    }
   ],
   "source": [
    "sim[1][1481]"
   ]
  },
  {
   "cell_type": "code",
   "execution_count": 13,
   "metadata": {
    "collapsed": false
   },
   "outputs": [
    {
     "data": {
      "text/plain": [
       "1873"
      ]
     },
     "execution_count": 13,
     "metadata": {},
     "output_type": "execute_result"
    }
   ],
   "source": [
    "len(np.nonzero(training_ratings[1])[0])"
   ]
  },
  {
   "cell_type": "code",
   "execution_count": 17,
   "metadata": {
    "collapsed": false
   },
   "outputs": [
    {
     "data": {
      "text/plain": [
       "(3884L, 6041L)"
      ]
     },
     "execution_count": 17,
     "metadata": {},
     "output_type": "execute_result"
    }
   ],
   "source": [
    "sim_ratings = np.array([[0.0 for i in range(len(users)+1)] for j in range(len(movies)+1)])\n",
    "sim_ratings=np.copy(training_ratings)\n",
    "sim_ratings.shape"
   ]
  },
  {
   "cell_type": "code",
   "execution_count": 18,
   "metadata": {
    "collapsed": false
   },
   "outputs": [
    {
     "name": "stdout",
     "output_type": "stream",
     "text": [
      "6301240\n"
     ]
    }
   ],
   "source": [
    "# count=0\n",
    "# for z in range(len(training_ratings[1])):\n",
    "#     for i in range(len(sim_max[z])):\n",
    "#         for j in range(len(sim_ratings[:,1])):\n",
    "#             if(sim_ratings[j][z]==0 and training_ratings[j][sim_max[z][i]]!=0):\n",
    "#                 count+=1\n",
    "#                 sim_ratings[j][z]=training_ratings[j][sim_max[z][i]]\n",
    "# print count\n",
    "\n",
    "#Finding average similiar Ratings for 20 similiar users\n",
    "count=0\n",
    "for z in range(len(training_ratings[1])):\n",
    "    if z!=0:\n",
    "        temp = np.array([0.0 for i in range(len(movies)+1)])\n",
    "        for j in range(len(sim_ratings[:,1])):\n",
    "            for i in range(len(sim_max[z])):\n",
    "                temp[j]+=training_ratings[j][sim_max[z][i]]*sim[z][sim_max[z][i]]\n",
    "        norm=0\n",
    "        for i in range(len(sim_max[1])):\n",
    "            norm+=sim[z][sim_max[z][i]]\n",
    "        for j in range(len(sim_ratings[:,1])):\n",
    "            if(sim_ratings[j][z]==0 and temp[j]!=0):\n",
    "                count+=1\n",
    "                sim_ratings[j][z]=temp[j]/norm\n",
    "print count"
   ]
  },
  {
   "cell_type": "code",
   "execution_count": 19,
   "metadata": {
    "collapsed": false
   },
   "outputs": [
    {
     "name": "stdout",
     "output_type": "stream",
     "text": [
      "47\n",
      "102\n"
     ]
    }
   ],
   "source": [
    "print len(np.nonzero(training_ratings[:,1])[0])\n",
    "print len(np.nonzero(sim_ratings[:,1])[0])"
   ]
  },
  {
   "cell_type": "code",
   "execution_count": 20,
   "metadata": {
    "collapsed": false
   },
   "outputs": [
    {
     "data": {
      "text/plain": [
       "array([0, 3, 0, ..., 0, 0, 0])"
      ]
     },
     "execution_count": 20,
     "metadata": {},
     "output_type": "execute_result"
    }
   ],
   "source": [
    "sim_ratings[:,1]"
   ]
  },
  {
   "cell_type": "code",
   "execution_count": 21,
   "metadata": {
    "collapsed": false
   },
   "outputs": [
    {
     "name": "stdout",
     "output_type": "stream",
     "text": [
      "2.73543805942\n"
     ]
    }
   ],
   "source": [
    "print calcRMSE(sim_ratings,validation_ratings,validation_matrix)"
   ]
  },
  {
   "cell_type": "code",
   "execution_count": null,
   "metadata": {
    "collapsed": false
   },
   "outputs": [],
   "source": [
    "1.45713777357 without similiarity 6302049 \n",
    "2.73543805942 with similiarity 6301240 "
   ]
  },
  {
   "cell_type": "code",
   "execution_count": null,
   "metadata": {
    "collapsed": false
   },
   "outputs": [],
   "source": []
  },
  {
   "cell_type": "code",
   "execution_count": null,
   "metadata": {
    "collapsed": true
   },
   "outputs": [],
   "source": []
  }
 ],
 "metadata": {
  "kernelspec": {
   "display_name": "Python 2",
   "language": "python",
   "name": "python2"
  },
  "language_info": {
   "codemirror_mode": {
    "name": "ipython",
    "version": 2
   },
   "file_extension": ".py",
   "mimetype": "text/x-python",
   "name": "python",
   "nbconvert_exporter": "python",
   "pygments_lexer": "ipython2",
   "version": "2.7.10"
  }
 },
 "nbformat": 4,
 "nbformat_minor": 0
}

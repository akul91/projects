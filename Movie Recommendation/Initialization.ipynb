{
 "cells": [
  {
   "cell_type": "code",
   "execution_count": 1,
   "metadata": {
    "collapsed": true
   },
   "outputs": [],
   "source": [
    "import numpy as np\n",
    "from sklearn import linear_model"
   ]
  },
  {
   "cell_type": "code",
   "execution_count": 5,
   "metadata": {
    "collapsed": false
   },
   "outputs": [
    {
     "name": "stdout",
     "output_type": "stream",
     "text": [
      "6040\n",
      "['2', 'M', '56', '16', '70072']\n"
     ]
    }
   ],
   "source": [
    "#Generate User Matrix\n",
    "users=[];\n",
    "for line in open('users.dat', 'r'):\n",
    "    temp= line.rstrip().split(\"::\")\n",
    "    users.append(temp)\n",
    "print len(users)\n",
    "print users[1]"
   ]
  },
  {
   "cell_type": "code",
   "execution_count": 3,
   "metadata": {
    "collapsed": false
   },
   "outputs": [
    {
     "name": "stdout",
     "output_type": "stream",
     "text": [
      "3883\n",
      "['1', 'Toy Story', \"Animation|Children's|Comedy\", '1995']\n"
     ]
    }
   ],
   "source": [
    "#Generate Movies Matrix\n",
    "movies=[];\n",
    "for line in open('movies.dat', 'r'):\n",
    "    temp= line.rstrip().split(\"::\")\n",
    "    title=temp[1].split(\"(\")\n",
    "    temp[1]=title[0].strip()\n",
    "    temp.append(title[1].replace(\")\",\"\"))\n",
    "    movies.append(temp)\n",
    "print len(movies)\n",
    "print movies[0]"
   ]
  },
  {
   "cell_type": "code",
   "execution_count": 6,
   "metadata": {
    "collapsed": false,
    "scrolled": true
   },
   "outputs": [
    {
     "name": "stdout",
     "output_type": "stream",
     "text": [
      "(3884L, 6041L)\n"
     ]
    }
   ],
   "source": [
    "validation_ratings = np.array([[0 for i in range(len(users)+1)] for j in range(len(movies)+1)])\n",
    "print validation_ratings.shape"
   ]
  },
  {
   "cell_type": "code",
   "execution_count": 7,
   "metadata": {
    "collapsed": false
   },
   "outputs": [],
   "source": [
    "#Separating Testing movies\n",
    "testing_movies=[]\n",
    "validation_matrix=[]\n",
    "index=0\n",
    "for line in open('validation.txt', 'r'):\n",
    "    temp= line.rstrip().split(\"::\")\n",
    "    if int(temp[1])<len(movies):\n",
    "        validation_ratings[temp[1],temp[0]]=temp[2]\n",
    "        validation_matrix.append([int(temp[1]),int(temp[0])])\n",
    "    else:\n",
    "        if int(temp[1]) not in testing_movies:\n",
    "            testing_movies.append(int(temp[1]))"
   ]
  },
  {
   "cell_type": "code",
   "execution_count": 6,
   "metadata": {
    "collapsed": false
   },
   "outputs": [
    {
     "name": "stdout",
     "output_type": "stream",
     "text": [
      "98742\n",
      "[594, 1]\n"
     ]
    }
   ],
   "source": [
    "print len(validation_matrix)\n",
    "print validation_matrix[0]"
   ]
  },
  {
   "cell_type": "code",
   "execution_count": 7,
   "metadata": {
    "collapsed": false
   },
   "outputs": [
    {
     "name": "stdout",
     "output_type": "stream",
     "text": [
      "(3884L, 6041L)\n"
     ]
    }
   ],
   "source": [
    "training_ratings = np.array([[0 for i in range(len(users)+1)] for j in range(len(movies)+1)])\n",
    "print training_ratings.shape"
   ]
  },
  {
   "cell_type": "code",
   "execution_count": 8,
   "metadata": {
    "collapsed": false
   },
   "outputs": [],
   "source": [
    "#Generating Rating matrix\n",
    "for line in open('ratings.dat', 'r'):\n",
    "    temp= line.rstrip().split(\"::\")\n",
    "    if int(temp[1])<=len(movies):\n",
    "        if validation_ratings[temp[1],temp[0]]==0:\n",
    "            training_ratings[temp[1],temp[0]]=temp[2]\n",
    "        else:\n",
    "            training_ratings[temp[1],temp[0]]=0\n",
    "    else:\n",
    "        if int(temp[1]) not in testing_movies:\n",
    "            testing_movies.append(int(temp[1]))"
   ]
  },
  {
   "cell_type": "code",
   "execution_count": null,
   "metadata": {
    "collapsed": false
   },
   "outputs": [],
   "source": [
    "print len(testing_movies)\n",
    "print min(testing_movies)\n",
    "print training_ratings[1][1193]\n",
    "print validation_ratings[1][1193]\n",
    "print training_ratings[1022,10]\n",
    "print validation_ratings[1022,10]"
   ]
  },
  {
   "cell_type": "code",
   "execution_count": 3,
   "metadata": {
    "collapsed": false
   },
   "outputs": [],
   "source": [
    "movie_types={\"Action\":1,\"Adventure\":2,\"Animation\":3,\"Children's\":4,\"Comedy\":5,\"Crime\":6,\"Documentary\":7,\"Drama\":8,\"Fantasy\":9,\"Film-Noir\":10,\"Horror\":11,\"Musical\":12,\"Mystery\":13,\"Romance\":14,\"Sci-Fi\":15,\"Thriller\":16,\"War\":17,\"Western\":18}"
   ]
  },
  {
   "cell_type": "code",
   "execution_count": 4,
   "metadata": {
    "collapsed": false
   },
   "outputs": [
    {
     "name": "stdout",
     "output_type": "stream",
     "text": [
      "1\n",
      "18\n"
     ]
    }
   ],
   "source": [
    "print movie_types.get(\"Action\")\n",
    "print len(movie_types)"
   ]
  },
  {
   "cell_type": "code",
   "execution_count": 7,
   "metadata": {
    "collapsed": false
   },
   "outputs": [
    {
     "name": "stdout",
     "output_type": "stream",
     "text": [
      "(3884L, 19L)\n"
     ]
    }
   ],
   "source": [
    "movies_genre_array = np.array([[0.0 for i in range(len(movie_types)+1)] for j in range(len(movies)+1)])\n",
    "print movies_genre_array.shape"
   ]
  },
  {
   "cell_type": "code",
   "execution_count": 14,
   "metadata": {
    "collapsed": false,
    "scrolled": true
   },
   "outputs": [
    {
     "name": "stdout",
     "output_type": "stream",
     "text": [
      "[ 1.  0.  0.  0.  0.  1.  0.  0.  0.  0.  0.  0.  0.  0.  0.  0.  0.  0.\n",
      "  0.]\n"
     ]
    }
   ],
   "source": [
    "print movies_genre_array[101]"
   ]
  },
  {
   "cell_type": "code",
   "execution_count": 12,
   "metadata": {
    "collapsed": false
   },
   "outputs": [],
   "source": [
    "#Creating movie genre matrix\n",
    "for m in movies:\n",
    "    if int(m[0])<=len(movies):\n",
    "        movies_genre_array[m[0],0]=1\n",
    "        genre_list=m[2].split(\"|\")\n",
    "        for t in m[2].split(\"|\"):\n",
    "            index=movie_types.get(t)\n",
    "            movies_genre_array[m[0],index]=1"
   ]
  },
  {
   "cell_type": "code",
   "execution_count": 29,
   "metadata": {
    "collapsed": false
   },
   "outputs": [
    {
     "data": {
      "text/plain": [
       "['92', 'Mary Reilly', 'Drama|Thriller', '1996']"
      ]
     },
     "execution_count": 29,
     "metadata": {},
     "output_type": "execute_result"
    }
   ],
   "source": [
    "movies[90]"
   ]
  },
  {
   "cell_type": "code",
   "execution_count": 30,
   "metadata": {
    "collapsed": false
   },
   "outputs": [
    {
     "name": "stdout",
     "output_type": "stream",
     "text": [
      "[ 0.  0.  0.  0.  0.  0.  0.  0.  0.  0.  0.  0.  0.  0.  0.  0.  0.  0.\n",
      "  0.]\n"
     ]
    }
   ],
   "source": [
    "print movies_genre_array[91]"
   ]
  },
  {
   "cell_type": "code",
   "execution_count": 9,
   "metadata": {
    "collapsed": false
   },
   "outputs": [
    {
     "data": {
      "text/plain": [
       "array([0, 0, 0, ..., 0, 0, 0])"
      ]
     },
     "execution_count": 9,
     "metadata": {},
     "output_type": "execute_result"
    }
   ],
   "source": [
    "training_ratings[90]"
   ]
  },
  {
   "cell_type": "code",
   "execution_count": 20,
   "metadata": {
    "collapsed": false
   },
   "outputs": [
    {
     "data": {
      "text/plain": [
       "4"
      ]
     },
     "execution_count": 20,
     "metadata": {},
     "output_type": "execute_result"
    }
   ],
   "source": [
    "training_ratings[926][10]"
   ]
  },
  {
   "cell_type": "code",
   "execution_count": null,
   "metadata": {
    "collapsed": true
   },
   "outputs": [],
   "source": []
  }
 ],
 "metadata": {
  "kernelspec": {
   "display_name": "Python 2",
   "language": "python",
   "name": "python2"
  },
  "language_info": {
   "codemirror_mode": {
    "name": "ipython",
    "version": 2
   },
   "file_extension": ".py",
   "mimetype": "text/x-python",
   "name": "python",
   "nbconvert_exporter": "python",
   "pygments_lexer": "ipython2",
   "version": "2.7.10"
  }
 },
 "nbformat": 4,
 "nbformat_minor": 0
}
